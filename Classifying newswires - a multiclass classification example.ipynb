{
 "cells": [
  {
   "cell_type": "code",
   "execution_count": 152,
   "metadata": {},
   "outputs": [],
   "source": [
    "%matplotlib inline"
   ]
  },
  {
   "cell_type": "markdown",
   "metadata": {},
   "source": [
    "## Loading the Reuters dataset"
   ]
  },
  {
   "cell_type": "code",
   "execution_count": 3,
   "metadata": {},
   "outputs": [
    {
     "name": "stderr",
     "output_type": "stream",
     "text": [
      "Using TensorFlow backend.\n"
     ]
    },
    {
     "name": "stdout",
     "output_type": "stream",
     "text": [
      "Train data size:  8982\n",
      "Test data size: 2246\n"
     ]
    }
   ],
   "source": [
    "from keras.datasets import reuters\n",
    "\n",
    "(train_data, train_labels), (test_data, test_labels) = reuters.load_data(num_words=10000)\n",
    "\n",
    "print('Train data size: ', len(train_data))\n",
    "print('Test data size:', len(test_data))"
   ]
  },
  {
   "cell_type": "markdown",
   "metadata": {},
   "source": [
    "### A look at the data (sample #666)"
   ]
  },
  {
   "cell_type": "code",
   "execution_count": 4,
   "metadata": {},
   "outputs": [
    {
     "name": "stdout",
     "output_type": "stream",
     "text": [
      "Train data sample \n",
      " [1, 1557, 3828, 2727, 8522, 9, 2828, 2, 5, 4747, 495, 1231, 8060, 2685, 101, 123, 2, 91, 3736, 126, 640, 51, 23, 1108, 6, 1216, 143, 823, 5, 4, 4747, 221, 58, 4, 2, 76, 2, 372, 8, 16, 2805, 535, 1801, 13, 5263, 297, 40, 85, 2, 9, 866, 189, 2584, 4, 911, 8, 10, 1751, 28, 68, 37, 412, 2687, 60, 24, 40, 75, 582, 25, 595, 2, 238, 7, 8060, 833, 50, 219, 128, 51, 2233, 5565, 40, 719, 6, 10, 6044, 2485, 87, 57, 1909, 345, 550, 24, 210, 69, 142, 561, 325, 343, 236, 7, 476, 4, 4747, 8060, 975, 55, 5759, 189, 4, 1278, 5, 10, 1572, 1276, 1559, 2926, 313, 323, 697, 221, 107, 1557, 3070, 6, 1310, 10, 867, 13, 4, 2017, 4747, 975, 43, 23, 77, 41, 30, 600, 129, 95, 97, 635, 514, 21, 4, 113, 28, 307, 372, 8, 51, 4, 2, 3893, 476, 6, 572, 10, 73, 1041, 5, 904, 13, 4, 975, 9, 263, 4, 1358, 833, 410, 125, 2222, 652, 8644, 10, 46, 4, 372, 8, 4, 210, 68, 4, 2, 2, 23, 1557, 10, 1751, 8, 2231, 4, 153, 823, 5, 8060, 975, 307, 5, 4552, 55, 174, 171, 530, 325, 1310, 10, 583, 6, 347, 476, 27, 29, 153, 189, 10, 121, 1598, 22, 2, 475, 5, 1111, 4, 2, 535, 1216, 4, 724, 823, 5, 4, 975, 43, 339, 43, 770, 347, 6, 10, 73, 1041, 5, 640, 28, 602, 2631, 592, 10, 1722, 136, 4, 96, 5, 4, 975, 2631, 2296, 10, 583, 6, 306, 10, 573, 347, 13, 476, 68, 1557, 179, 8, 1557, 64, 157, 4228, 51, 3777, 395, 300, 6, 2, 4, 4747, 221, 2, 672, 5, 4747, 910, 1911, 619, 692, 13, 16, 161, 5, 4, 583, 37, 38, 3449, 1111, 60, 672, 5, 4, 1134, 244, 5, 100, 171, 372, 8, 1987, 16, 23, 3686, 24, 10, 3540, 13, 661, 4, 910, 30, 1523, 9, 5016, 123, 372, 8, 4, 2, 1936, 5, 4, 2, 221, 50, 4747, 40, 607, 6, 3951, 13, 197, 7, 102, 206, 535, 57, 573, 347, 13, 68, 2498, 372, 506, 16, 4874, 69, 4, 1728, 101, 117, 4, 547, 2432, 607, 101, 5, 2359, 194, 1572, 582, 827, 4, 2331, 23, 132, 503, 1035, 290, 4, 100, 1936, 5, 4, 827, 7, 50, 4, 904, 4874, 119, 514, 21, 4, 113, 13, 10, 2473, 2403, 102, 29, 733, 23, 5, 2, 347, 1115, 4, 4747, 8060, 6923, 10, 76, 347, 757, 3001, 102, 206, 22, 189, 372, 8, 4, 2473, 2403, 1936, 114, 720, 347, 13, 42, 485, 50, 13, 131, 1619, 1381, 6, 263, 10, 545, 244, 46, 4, 372, 8, 7, 4, 102, 29, 245, 164, 4, 216, 4, 123, 23, 1087, 9, 4, 216, 16, 23, 6014, 129, 128, 23, 600, 185, 2665, 3712, 7267, 16, 23, 45, 7, 197, 849, 42, 1303, 2473, 2403, 733, 1308, 4, 904, 8280, 68, 5, 4, 4747, 8060, 2, 17, 12]\n"
     ]
    }
   ],
   "source": [
    "sample = 666\n",
    "print('Train data sample \\n', train_data[sample])"
   ]
  },
  {
   "cell_type": "markdown",
   "metadata": {},
   "source": [
    "## Decoding newswires back to text"
   ]
  },
  {
   "cell_type": "code",
   "execution_count": 5,
   "metadata": {},
   "outputs": [
    {
     "name": "stdout",
     "output_type": "stream",
     "text": [
      "Train data sample (decoded message) \n",
      " ? morgan guaranty ltd's novel and complex ? of westpac banking corp's perpetual floating rate note ? may attract some investors but is unlikely to aid current holders of the westpac securities or the ? market ? traders said it actually does nothing for anyone who has been ? and right now that's the problem said a trader at one u k clearing bank that has also issued its own ? trading in perpetual issues which pay interest but never mature has come to a virtual halt prices have fallen so far that only about five firms still make markets in them the westpac perpetual notes are technically now the property of a newly formed single purpose finance subsidiary pacific securities if morgan tried to find a home for the actual westpac notes as is they would be paid no more than 85 cents on the dollar at most traders said but the ? allows them to target a new class of investor for the notes and take the old issues off their books without registering a loss the traders said the only one the ? ? is morgan a trader said meanwhile the end holders of perpetual notes most of whom are japanese banks must still find a way to value them by year end now a week away from ? point of view the ? does aid the present holders of the notes as well as offering value to a new class of investors at least we've put a floor under the price of the notes we've created a way to set a real value for them one morgan official said morgan had earlier attempted but abandoned another plan to ? the westpac securities ? holdings of westpac paper create special problems for it because of the way u s regulators view bank holdings of the primary capital of other banks traders said therefore it is crucial that a vehicle for selling the paper be found and indeed note traders said the ? portion of the ? securities which westpac has offered to redeem for cash in 15 years does have real value for one thing traders noted it pays about the highest rate over the london interbank offered rate of virtually any newly issued security the spread is 50 basis points however the other portion of the security in which the investor pays 20 cents on the dollar for a zero coupon 15 year bond is of ? value unless the westpac perpetual assumes a market value near par 15 years from now traders said the zero coupon portion could provide value for an account which for tax purposes wants to take a large capital loss the traders said in the 15 year period between the time the note is purchased and the time it is redeemed no interest is paid when repayment finally occurs it is not in cash like an ordinary zero coupon bond instead the investor receives one of the westpac perpetual ? reuter 3\n"
     ]
    }
   ],
   "source": [
    "word_index = reuters.get_word_index()\n",
    "reverse_word_index = dict([(value, key) for (key, value) in word_index.items()])\n",
    "decoded_newswire = ' '.join([reverse_word_index.get(i - 3, '?') for i in train_data[sample]])\n",
    "print('Train data sample (decoded message) \\n', decoded_newswire)"
   ]
  },
  {
   "cell_type": "markdown",
   "metadata": {},
   "source": [
    "## Encoding the data"
   ]
  },
  {
   "cell_type": "code",
   "execution_count": 7,
   "metadata": {},
   "outputs": [],
   "source": [
    "import numpy as np\n",
    "\n",
    "def vectorize_sequences(sequences, dimension=10000):\n",
    "    results = np.zeros((len(sequences), dimension))\n",
    "    for i, sequence in enumerate(sequences):\n",
    "        results[i, sequence] = 1.\n",
    "    return results"
   ]
  },
  {
   "cell_type": "code",
   "execution_count": null,
   "metadata": {},
   "outputs": [],
   "source": [
    "x_train = vectorize_sequences(train_data)\n",
    "x_test = vectorize_sequences(test_data)"
   ]
  },
  {
   "cell_type": "code",
   "execution_count": 158,
   "metadata": {},
   "outputs": [],
   "source": [
    "def to_one_hot(labels, dimension=46):\n",
    "    results = np.zeros((len(labels), dimension))\n",
    "    for i, label in enumerate(labels):\n",
    "        results[i, label] = 1.\n",
    "    return results"
   ]
  },
  {
   "cell_type": "code",
   "execution_count": 159,
   "metadata": {},
   "outputs": [],
   "source": [
    "from keras.utils.np_utils import to_categorical\n",
    "\n",
    "#one_hot_train_labels = to_categorical(train_labels)\n",
    "#one_hot_test_labels = to_categorical(test_labels)\n",
    "one_hot_train_labels = np.array(train_labels)\n",
    "one_hot_test_labels = np.array(test_labels)"
   ]
  },
  {
   "cell_type": "markdown",
   "metadata": {},
   "source": [
    "## Model definition"
   ]
  },
  {
   "cell_type": "code",
   "execution_count": 160,
   "metadata": {},
   "outputs": [],
   "source": [
    "from keras import models\n",
    "from keras import layers\n",
    "\n",
    "model = models.Sequential()\n",
    "model.add(layers.Dense(64, activation='relu', input_shape=(10000,)))\n",
    "model.add(layers.Dense(64, activation='relu'))\n",
    "model.add(layers.Dense(46, activation='softmax'))"
   ]
  },
  {
   "cell_type": "markdown",
   "metadata": {},
   "source": [
    "## Compiling the model"
   ]
  },
  {
   "cell_type": "code",
   "execution_count": 161,
   "metadata": {},
   "outputs": [],
   "source": [
    "#model.compile(optimizer='rmsprop',\n",
    "#             loss='categorical_crossentropy',\n",
    "#             metrics=['acc'])\n",
    "model.compile(optimizer='rmsprop',\n",
    "             loss='sparse_categorical_crossentropy',\n",
    "             metrics=['acc'])"
   ]
  },
  {
   "cell_type": "markdown",
   "metadata": {},
   "source": [
    "## Setting aside a validation set"
   ]
  },
  {
   "cell_type": "code",
   "execution_count": 162,
   "metadata": {},
   "outputs": [],
   "source": [
    "x_val = x_train[:1000]\n",
    "partial_x_train = x_train[1000:]\n",
    "\n",
    "y_val = one_hot_train_labels[:1000]\n",
    "partial_y_train = one_hot_train_labels[1000:]"
   ]
  },
  {
   "cell_type": "markdown",
   "metadata": {},
   "source": [
    "## Training the model"
   ]
  },
  {
   "cell_type": "code",
   "execution_count": 163,
   "metadata": {},
   "outputs": [
    {
     "name": "stdout",
     "output_type": "stream",
     "text": [
      "Train on 7982 samples, validate on 1000 samples\n",
      "Epoch 1/20\n",
      "7982/7982 [==============================] - 1s 169us/step - loss: 2.5322 - acc: 0.4955 - val_loss: 1.7208 - val_acc: 0.6120\n",
      "Epoch 2/20\n",
      "7982/7982 [==============================] - 1s 112us/step - loss: 1.4452 - acc: 0.6879 - val_loss: 1.3459 - val_acc: 0.7060\n",
      "Epoch 3/20\n",
      "7982/7982 [==============================] - 1s 108us/step - loss: 1.0953 - acc: 0.7651 - val_loss: 1.1708 - val_acc: 0.7430\n",
      "Epoch 4/20\n",
      "7982/7982 [==============================] - 1s 111us/step - loss: 0.8697 - acc: 0.8165 - val_loss: 1.0793 - val_acc: 0.7590\n",
      "Epoch 5/20\n",
      "7982/7982 [==============================] - 1s 111us/step - loss: 0.7034 - acc: 0.8472 - val_loss: 0.9844 - val_acc: 0.7810\n",
      "Epoch 6/20\n",
      "7982/7982 [==============================] - 1s 109us/step - loss: 0.5667 - acc: 0.8802 - val_loss: 0.9411 - val_acc: 0.8040\n",
      "Epoch 7/20\n",
      "7982/7982 [==============================] - 1s 109us/step - loss: 0.4581 - acc: 0.9048 - val_loss: 0.9083 - val_acc: 0.8020\n",
      "Epoch 8/20\n",
      "7982/7982 [==============================] - 1s 110us/step - loss: 0.3695 - acc: 0.9231 - val_loss: 0.9363 - val_acc: 0.7890\n",
      "Epoch 9/20\n",
      "7982/7982 [==============================] - 1s 111us/step - loss: 0.3032 - acc: 0.9315 - val_loss: 0.8917 - val_acc: 0.8090\n",
      "Epoch 10/20\n",
      "7982/7982 [==============================] - 1s 111us/step - loss: 0.2537 - acc: 0.9414 - val_loss: 0.9071 - val_acc: 0.8110\n",
      "Epoch 11/20\n",
      "7982/7982 [==============================] - 1s 112us/step - loss: 0.2187 - acc: 0.9471 - val_loss: 0.9177 - val_acc: 0.8130\n",
      "Epoch 12/20\n",
      "7982/7982 [==============================] - 1s 109us/step - loss: 0.1873 - acc: 0.9508 - val_loss: 0.9027 - val_acc: 0.8130\n",
      "Epoch 13/20\n",
      "7982/7982 [==============================] - 1s 109us/step - loss: 0.1703 - acc: 0.9521 - val_loss: 0.9323 - val_acc: 0.8110\n",
      "Epoch 14/20\n",
      "7982/7982 [==============================] - 1s 108us/step - loss: 0.1536 - acc: 0.9554 - val_loss: 0.9689 - val_acc: 0.8050\n",
      "Epoch 15/20\n",
      "7982/7982 [==============================] - 1s 114us/step - loss: 0.1390 - acc: 0.9560 - val_loss: 0.9686 - val_acc: 0.8150\n",
      "Epoch 16/20\n",
      "7982/7982 [==============================] - 1s 115us/step - loss: 0.1313 - acc: 0.9560 - val_loss: 1.0220 - val_acc: 0.8060\n",
      "Epoch 17/20\n",
      "7982/7982 [==============================] - 1s 115us/step - loss: 0.1217 - acc: 0.9579 - val_loss: 1.0254 - val_acc: 0.7970\n",
      "Epoch 18/20\n",
      "7982/7982 [==============================] - 1s 112us/step - loss: 0.1198 - acc: 0.9582 - val_loss: 1.0430 - val_acc: 0.8060\n",
      "Epoch 19/20\n",
      "7982/7982 [==============================] - 1s 110us/step - loss: 0.1138 - acc: 0.9597 - val_loss: 1.0956 - val_acc: 0.7970\n",
      "Epoch 20/20\n",
      "7982/7982 [==============================] - 1s 113us/step - loss: 0.1111 - acc: 0.9593 - val_loss: 1.0673 - val_acc: 0.8020\n"
     ]
    }
   ],
   "source": [
    "fit_result = model.fit(partial_x_train,\n",
    "                      partial_y_train,\n",
    "                      epochs=20,\n",
    "                      batch_size=512,\n",
    "                      validation_data=(x_val, y_val))"
   ]
  },
  {
   "cell_type": "markdown",
   "metadata": {},
   "source": [
    "## Preparing the variables to plot"
   ]
  },
  {
   "cell_type": "code",
   "execution_count": 164,
   "metadata": {},
   "outputs": [
    {
     "data": {
      "text/plain": [
       "dict_keys(['val_loss', 'val_acc', 'loss', 'acc'])"
      ]
     },
     "execution_count": 164,
     "metadata": {},
     "output_type": "execute_result"
    }
   ],
   "source": [
    "fit_history = fit_result.history\n",
    "fit_history.keys()"
   ]
  },
  {
   "cell_type": "code",
   "execution_count": 165,
   "metadata": {},
   "outputs": [],
   "source": [
    "loss_values = fit_history['loss']\n",
    "val_loss_values = fit_history['val_loss']\n",
    "acc_values = fit_history['acc']\n",
    "val_acc_values = fit_history['val_acc']\n",
    "\n",
    "epochs = range(1, len(loss_values) + 1)"
   ]
  },
  {
   "cell_type": "markdown",
   "metadata": {},
   "source": [
    "## Plotting the training and the validation accuracy"
   ]
  },
  {
   "cell_type": "code",
   "execution_count": 166,
   "metadata": {},
   "outputs": [
    {
     "data": {
      "image/png": "[encoded data removed]",
      "text/plain": [
       "<Figure size 432x288 with 1 Axes>"
      ]
     },
     "metadata": {
      "needs_background": "light"
     },
     "output_type": "display_data"
    }
   ],
   "source": [
    "import matplotlib.pyplot as plt\n",
    "\n",
    "plt.plot(epochs, loss_values, 'bo', label='Training loss')\n",
    "plt.plot(epochs, val_loss_values, 'b', label='Validation loss')\n",
    "plt.title('Training and validation loss')\n",
    "plt.xlabel('Epochs')\n",
    "plt.ylabel('Loss')\n",
    "plt.legend()\n",
    "plt.show()"
   ]
  },
  {
   "cell_type": "code",
   "execution_count": 167,
   "metadata": {},
   "outputs": [
    {
     "data": {
      "image/png": "[encoded data removed]",
      "text/plain": [
       "<Figure size 432x288 with 1 Axes>"
      ]
     },
     "metadata": {
      "needs_background": "light"
     },
     "output_type": "display_data"
    }
   ],
   "source": [
    "plt.clf\n",
    "plt.plot(epochs, acc_values, 'bo', label='Training accuracy')\n",
    "plt.plot(epochs, val_acc_values, 'b', label='Validation accuracy')\n",
    "plt.title('Training and validation accuracy')\n",
    "plt.xlabel('Epochs')\n",
    "plt.ylabel('Accuracy')\n",
    "plt.legend()\n",
    "plt.show()"
   ]
  },
  {
   "cell_type": "code",
   "execution_count": 168,
   "metadata": {},
   "outputs": [
    {
     "name": "stdout",
     "output_type": "stream",
     "text": [
      "2246/2246 [==============================] - 0s 166us/step\n"
     ]
    },
    {
     "data": {
      "text/plain": [
       "[1.2091523794223449, 0.7782724844698171]"
      ]
     },
     "execution_count": 168,
     "metadata": {},
     "output_type": "execute_result"
    }
   ],
   "source": [
    "results = model.evaluate(x_test, one_hot_test_labels)\n",
    "results"
   ]
  },
  {
   "cell_type": "code",
   "execution_count": 169,
   "metadata": {},
   "outputs": [
    {
     "name": "stdout",
     "output_type": "stream",
     "text": [
      "Train on 2246 samples, validate on 1000 samples\n",
      "Epoch 1/9\n",
      "2246/2246 [==============================] - 0s 137us/step - loss: 1.1654 - acc: 0.7894 - val_loss: 0.9836 - val_acc: 0.8080\n",
      "Epoch 2/9\n",
      "2246/2246 [==============================] - 0s 137us/step - loss: 0.7815 - acc: 0.8455 - val_loss: 0.9745 - val_acc: 0.8270\n",
      "Epoch 3/9\n",
      "2246/2246 [==============================] - 0s 143us/step - loss: 0.6083 - acc: 0.8762 - val_loss: 0.9593 - val_acc: 0.8100\n",
      "Epoch 4/9\n",
      "2246/2246 [==============================] - 0s 138us/step - loss: 0.4996 - acc: 0.8963 - val_loss: 0.9334 - val_acc: 0.8250\n",
      "Epoch 5/9\n",
      "2246/2246 [==============================] - 0s 139us/step - loss: 0.4156 - acc: 0.9145 - val_loss: 0.9283 - val_acc: 0.8150\n",
      "Epoch 6/9\n",
      "2246/2246 [==============================] - 0s 138us/step - loss: 0.3508 - acc: 0.9310 - val_loss: 0.9255 - val_acc: 0.8160\n",
      "Epoch 7/9\n",
      "2246/2246 [==============================] - 0s 140us/step - loss: 0.3033 - acc: 0.9435 - val_loss: 0.9627 - val_acc: 0.8070\n",
      "Epoch 8/9\n",
      "2246/2246 [==============================] - 0s 149us/step - loss: 0.2642 - acc: 0.9537 - val_loss: 0.9345 - val_acc: 0.8210\n",
      "Epoch 9/9\n",
      "2246/2246 [==============================] - 0s 138us/step - loss: 0.2298 - acc: 0.9644 - val_loss: 0.9691 - val_acc: 0.8000\n"
     ]
    }
   ],
   "source": [
    "fit_result = model.fit(x_test,\n",
    "                      one_hot_test_labels,\n",
    "                      epochs=9,\n",
    "                      batch_size=512,\n",
    "                      validation_data=(x_val, y_val))"
   ]
  },
  {
   "cell_type": "code",
   "execution_count": 170,
   "metadata": {},
   "outputs": [],
   "source": [
    "fit_history = fit_result.history\n",
    "\n",
    "loss_values = fit_history['loss']\n",
    "val_loss_values = fit_history['val_loss']\n",
    "acc_values = fit_history['acc']\n",
    "val_acc_values = fit_history['val_acc']\n",
    "\n",
    "epochs = range(1, len(loss_values) + 1)"
   ]
  },
  {
   "cell_type": "code",
   "execution_count": 171,
   "metadata": {},
   "outputs": [
    {
     "data": {
      "image/png": "[encoded data removed]",
      "text/plain": [
       "<Figure size 432x288 with 1 Axes>"
      ]
     },
     "metadata": {
      "needs_background": "light"
     },
     "output_type": "display_data"
    }
   ],
   "source": [
    "plt.plot(epochs, loss_values, 'bo', label='Training loss')\n",
    "plt.plot(epochs, val_loss_values, 'b', label='Validation loss')\n",
    "plt.title('Training and validation loss')\n",
    "plt.xlabel('Epochs')\n",
    "plt.ylabel('Loss')\n",
    "plt.legend()\n",
    "plt.show()"
   ]
  },
  {
   "cell_type": "code",
   "execution_count": 172,
   "metadata": {},
   "outputs": [
    {
     "data": {
      "image/png": "[encoded data removed]",
      "text/plain": [
       "<Figure size 432x288 with 1 Axes>"
      ]
     },
     "metadata": {
      "needs_background": "light"
     },
     "output_type": "display_data"
    }
   ],
   "source": [
    "plt.clf\n",
    "plt.plot(epochs, acc_values, 'bo', label='Training accuracy')\n",
    "plt.plot(epochs, val_acc_values, 'b', label='Validation accuracy')\n",
    "plt.title('Training and validation accuracy')\n",
    "plt.xlabel('Epochs')\n",
    "plt.ylabel('Accuracy')\n",
    "plt.legend()\n",
    "plt.show()"
   ]
  },
  {
   "cell_type": "code",
   "execution_count": 173,
   "metadata": {},
   "outputs": [
    {
     "name": "stdout",
     "output_type": "stream",
     "text": [
      "2246/2246 [==============================] - 0s 137us/step\n"
     ]
    },
    {
     "data": {
      "text/plain": [
       "[0.20838779041200267, 0.9701691896174491]"
      ]
     },
     "execution_count": 173,
     "metadata": {},
     "output_type": "execute_result"
    }
   ],
   "source": [
    "results = model.evaluate(x_test, one_hot_test_labels)\n",
    "results"
   ]
  },
  {
   "cell_type": "markdown",
   "metadata": {},
   "source": [
    "## Generating predictions for new data"
   ]
  },
  {
   "cell_type": "code",
   "execution_count": 174,
   "metadata": {},
   "outputs": [
    {
     "data": {
      "text/plain": [
       "array([[1.7689915e-06, 4.3016043e-06, 1.4214395e-08, ..., 2.6553795e-09,\n",
       "        2.1999975e-09, 5.4099908e-10],\n",
       "       [4.5880795e-05, 2.5309380e-05, 1.6542923e-09, ..., 5.1260685e-10,\n",
       "        3.2432329e-08, 6.8168958e-07],\n",
       "       [5.3255481e-04, 9.8718619e-01, 1.1841641e-05, ..., 5.0814062e-08,\n",
       "        6.8328421e-07, 1.7667918e-07],\n",
       "       ...,\n",
       "       [1.9593092e-07, 2.1525400e-06, 6.1515500e-08, ..., 1.0296201e-09,\n",
       "        1.5884844e-08, 3.8887757e-10],\n",
       "       [3.1456776e-04, 4.5678681e-03, 3.3062555e-05, ..., 1.1898009e-06,\n",
       "        4.5011578e-07, 1.3868423e-07],\n",
       "       [1.5783512e-06, 3.9408314e-03, 4.3587969e-03, ..., 2.1782595e-08,\n",
       "        1.4140086e-10, 1.9545874e-08]], dtype=float32)"
      ]
     },
     "execution_count": 174,
     "metadata": {},
     "output_type": "execute_result"
    }
   ],
   "source": [
    "predictions = model.predict(x_test)\n",
    "predictions"
   ]
  },
  {
   "cell_type": "code",
   "execution_count": 175,
   "metadata": {},
   "outputs": [
    {
     "data": {
      "text/plain": [
       "1.0000001"
      ]
     },
     "execution_count": 175,
     "metadata": {},
     "output_type": "execute_result"
    }
   ],
   "source": [
    "np.sum(predictions[sample])"
   ]
  }
 ],
 "metadata": {
  "kernelspec": {
   "display_name": "Python 3",
   "language": "python",
   "name": "python3"
  },
  "language_info": {
   "codemirror_mode": {
    "name": "ipython",
    "version": 3
   },
   "file_extension": ".py",
   "mimetype": "text/x-python",
   "name": "python",
   "nbconvert_exporter": "python",
   "pygments_lexer": "ipython3",
   "version": "3.7.3"
  }
 },
 "nbformat": 4,
 "nbformat_minor": 2
}
